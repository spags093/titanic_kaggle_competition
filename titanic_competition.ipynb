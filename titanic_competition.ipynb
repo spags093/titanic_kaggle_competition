{
 "cells": [
  {
   "cell_type": "markdown",
   "metadata": {},
   "source": [
    "# Titanic Kaggle Competition"
   ]
  },
  {
   "cell_type": "markdown",
   "metadata": {},
   "source": [
    "## Introduction"
   ]
  },
  {
   "cell_type": "markdown",
   "metadata": {},
   "source": [
    "### Imports"
   ]
  },
  {
   "cell_type": "code",
   "execution_count": 1,
   "metadata": {
    "ExecuteTime": {
     "end_time": "2020-12-25T19:51:21.880511Z",
     "start_time": "2020-12-25T19:51:19.799426Z"
    }
   },
   "outputs": [],
   "source": [
    "import pandas as pd\n",
    "import numpy as np\n",
    "import matplotlib.pyplot as plt\n",
    "%matplotlib inline\n",
    "import seaborn as sns\n",
    "\n",
    "from sklearn.impute import KNNImputer"
   ]
  },
  {
   "cell_type": "markdown",
   "metadata": {},
   "source": [
    "### Functions"
   ]
  },
  {
   "cell_type": "code",
   "execution_count": null,
   "metadata": {},
   "outputs": [],
   "source": []
  },
  {
   "cell_type": "code",
   "execution_count": null,
   "metadata": {},
   "outputs": [],
   "source": []
  },
  {
   "cell_type": "code",
   "execution_count": null,
   "metadata": {},
   "outputs": [],
   "source": []
  },
  {
   "cell_type": "markdown",
   "metadata": {},
   "source": [
    "## Obtain"
   ]
  },
  {
   "cell_type": "markdown",
   "metadata": {},
   "source": [
    "### Training Data"
   ]
  },
  {
   "cell_type": "code",
   "execution_count": 2,
   "metadata": {
    "ExecuteTime": {
     "end_time": "2020-12-25T19:51:25.492512Z",
     "start_time": "2020-12-25T19:51:25.446870Z"
    }
   },
   "outputs": [
    {
     "name": "stdout",
     "output_type": "stream",
     "text": [
      "(891, 12)\n"
     ]
    },
    {
     "data": {
      "text/html": [
       "<div>\n",
       "<style scoped>\n",
       "    .dataframe tbody tr th:only-of-type {\n",
       "        vertical-align: middle;\n",
       "    }\n",
       "\n",
       "    .dataframe tbody tr th {\n",
       "        vertical-align: top;\n",
       "    }\n",
       "\n",
       "    .dataframe thead th {\n",
       "        text-align: right;\n",
       "    }\n",
       "</style>\n",
       "<table border=\"1\" class=\"dataframe\">\n",
       "  <thead>\n",
       "    <tr style=\"text-align: right;\">\n",
       "      <th></th>\n",
       "      <th>PassengerId</th>\n",
       "      <th>Survived</th>\n",
       "      <th>Pclass</th>\n",
       "      <th>Name</th>\n",
       "      <th>Sex</th>\n",
       "      <th>Age</th>\n",
       "      <th>SibSp</th>\n",
       "      <th>Parch</th>\n",
       "      <th>Ticket</th>\n",
       "      <th>Fare</th>\n",
       "      <th>Cabin</th>\n",
       "      <th>Embarked</th>\n",
       "    </tr>\n",
       "  </thead>\n",
       "  <tbody>\n",
       "    <tr>\n",
       "      <th>0</th>\n",
       "      <td>1</td>\n",
       "      <td>0</td>\n",
       "      <td>3</td>\n",
       "      <td>Braund, Mr. Owen Harris</td>\n",
       "      <td>male</td>\n",
       "      <td>22.0</td>\n",
       "      <td>1</td>\n",
       "      <td>0</td>\n",
       "      <td>A/5 21171</td>\n",
       "      <td>7.2500</td>\n",
       "      <td>NaN</td>\n",
       "      <td>S</td>\n",
       "    </tr>\n",
       "    <tr>\n",
       "      <th>1</th>\n",
       "      <td>2</td>\n",
       "      <td>1</td>\n",
       "      <td>1</td>\n",
       "      <td>Cumings, Mrs. John Bradley (Florence Briggs Th...</td>\n",
       "      <td>female</td>\n",
       "      <td>38.0</td>\n",
       "      <td>1</td>\n",
       "      <td>0</td>\n",
       "      <td>PC 17599</td>\n",
       "      <td>71.2833</td>\n",
       "      <td>C85</td>\n",
       "      <td>C</td>\n",
       "    </tr>\n",
       "    <tr>\n",
       "      <th>2</th>\n",
       "      <td>3</td>\n",
       "      <td>1</td>\n",
       "      <td>3</td>\n",
       "      <td>Heikkinen, Miss. Laina</td>\n",
       "      <td>female</td>\n",
       "      <td>26.0</td>\n",
       "      <td>0</td>\n",
       "      <td>0</td>\n",
       "      <td>STON/O2. 3101282</td>\n",
       "      <td>7.9250</td>\n",
       "      <td>NaN</td>\n",
       "      <td>S</td>\n",
       "    </tr>\n",
       "    <tr>\n",
       "      <th>3</th>\n",
       "      <td>4</td>\n",
       "      <td>1</td>\n",
       "      <td>1</td>\n",
       "      <td>Futrelle, Mrs. Jacques Heath (Lily May Peel)</td>\n",
       "      <td>female</td>\n",
       "      <td>35.0</td>\n",
       "      <td>1</td>\n",
       "      <td>0</td>\n",
       "      <td>113803</td>\n",
       "      <td>53.1000</td>\n",
       "      <td>C123</td>\n",
       "      <td>S</td>\n",
       "    </tr>\n",
       "    <tr>\n",
       "      <th>4</th>\n",
       "      <td>5</td>\n",
       "      <td>0</td>\n",
       "      <td>3</td>\n",
       "      <td>Allen, Mr. William Henry</td>\n",
       "      <td>male</td>\n",
       "      <td>35.0</td>\n",
       "      <td>0</td>\n",
       "      <td>0</td>\n",
       "      <td>373450</td>\n",
       "      <td>8.0500</td>\n",
       "      <td>NaN</td>\n",
       "      <td>S</td>\n",
       "    </tr>\n",
       "  </tbody>\n",
       "</table>\n",
       "</div>"
      ],
      "text/plain": [
       "   PassengerId  Survived  Pclass  \\\n",
       "0            1         0       3   \n",
       "1            2         1       1   \n",
       "2            3         1       3   \n",
       "3            4         1       1   \n",
       "4            5         0       3   \n",
       "\n",
       "                                                Name     Sex   Age  SibSp  \\\n",
       "0                            Braund, Mr. Owen Harris    male  22.0      1   \n",
       "1  Cumings, Mrs. John Bradley (Florence Briggs Th...  female  38.0      1   \n",
       "2                             Heikkinen, Miss. Laina  female  26.0      0   \n",
       "3       Futrelle, Mrs. Jacques Heath (Lily May Peel)  female  35.0      1   \n",
       "4                           Allen, Mr. William Henry    male  35.0      0   \n",
       "\n",
       "   Parch            Ticket     Fare Cabin Embarked  \n",
       "0      0         A/5 21171   7.2500   NaN        S  \n",
       "1      0          PC 17599  71.2833   C85        C  \n",
       "2      0  STON/O2. 3101282   7.9250   NaN        S  \n",
       "3      0            113803  53.1000  C123        S  \n",
       "4      0            373450   8.0500   NaN        S  "
      ]
     },
     "execution_count": 2,
     "metadata": {},
     "output_type": "execute_result"
    }
   ],
   "source": [
    "train_df = pd.read_csv('train.csv')\n",
    "print(train_df.shape)\n",
    "train_df.head()"
   ]
  },
  {
   "cell_type": "markdown",
   "metadata": {},
   "source": [
    "### Testing Data"
   ]
  },
  {
   "cell_type": "code",
   "execution_count": 3,
   "metadata": {
    "ExecuteTime": {
     "end_time": "2020-12-25T19:51:26.442866Z",
     "start_time": "2020-12-25T19:51:26.413658Z"
    }
   },
   "outputs": [
    {
     "name": "stdout",
     "output_type": "stream",
     "text": [
      "(418, 11)\n"
     ]
    },
    {
     "data": {
      "text/html": [
       "<div>\n",
       "<style scoped>\n",
       "    .dataframe tbody tr th:only-of-type {\n",
       "        vertical-align: middle;\n",
       "    }\n",
       "\n",
       "    .dataframe tbody tr th {\n",
       "        vertical-align: top;\n",
       "    }\n",
       "\n",
       "    .dataframe thead th {\n",
       "        text-align: right;\n",
       "    }\n",
       "</style>\n",
       "<table border=\"1\" class=\"dataframe\">\n",
       "  <thead>\n",
       "    <tr style=\"text-align: right;\">\n",
       "      <th></th>\n",
       "      <th>PassengerId</th>\n",
       "      <th>Pclass</th>\n",
       "      <th>Name</th>\n",
       "      <th>Sex</th>\n",
       "      <th>Age</th>\n",
       "      <th>SibSp</th>\n",
       "      <th>Parch</th>\n",
       "      <th>Ticket</th>\n",
       "      <th>Fare</th>\n",
       "      <th>Cabin</th>\n",
       "      <th>Embarked</th>\n",
       "    </tr>\n",
       "  </thead>\n",
       "  <tbody>\n",
       "    <tr>\n",
       "      <th>0</th>\n",
       "      <td>892</td>\n",
       "      <td>3</td>\n",
       "      <td>Kelly, Mr. James</td>\n",
       "      <td>male</td>\n",
       "      <td>34.5</td>\n",
       "      <td>0</td>\n",
       "      <td>0</td>\n",
       "      <td>330911</td>\n",
       "      <td>7.8292</td>\n",
       "      <td>NaN</td>\n",
       "      <td>Q</td>\n",
       "    </tr>\n",
       "    <tr>\n",
       "      <th>1</th>\n",
       "      <td>893</td>\n",
       "      <td>3</td>\n",
       "      <td>Wilkes, Mrs. James (Ellen Needs)</td>\n",
       "      <td>female</td>\n",
       "      <td>47.0</td>\n",
       "      <td>1</td>\n",
       "      <td>0</td>\n",
       "      <td>363272</td>\n",
       "      <td>7.0000</td>\n",
       "      <td>NaN</td>\n",
       "      <td>S</td>\n",
       "    </tr>\n",
       "    <tr>\n",
       "      <th>2</th>\n",
       "      <td>894</td>\n",
       "      <td>2</td>\n",
       "      <td>Myles, Mr. Thomas Francis</td>\n",
       "      <td>male</td>\n",
       "      <td>62.0</td>\n",
       "      <td>0</td>\n",
       "      <td>0</td>\n",
       "      <td>240276</td>\n",
       "      <td>9.6875</td>\n",
       "      <td>NaN</td>\n",
       "      <td>Q</td>\n",
       "    </tr>\n",
       "    <tr>\n",
       "      <th>3</th>\n",
       "      <td>895</td>\n",
       "      <td>3</td>\n",
       "      <td>Wirz, Mr. Albert</td>\n",
       "      <td>male</td>\n",
       "      <td>27.0</td>\n",
       "      <td>0</td>\n",
       "      <td>0</td>\n",
       "      <td>315154</td>\n",
       "      <td>8.6625</td>\n",
       "      <td>NaN</td>\n",
       "      <td>S</td>\n",
       "    </tr>\n",
       "    <tr>\n",
       "      <th>4</th>\n",
       "      <td>896</td>\n",
       "      <td>3</td>\n",
       "      <td>Hirvonen, Mrs. Alexander (Helga E Lindqvist)</td>\n",
       "      <td>female</td>\n",
       "      <td>22.0</td>\n",
       "      <td>1</td>\n",
       "      <td>1</td>\n",
       "      <td>3101298</td>\n",
       "      <td>12.2875</td>\n",
       "      <td>NaN</td>\n",
       "      <td>S</td>\n",
       "    </tr>\n",
       "  </tbody>\n",
       "</table>\n",
       "</div>"
      ],
      "text/plain": [
       "   PassengerId  Pclass                                          Name     Sex  \\\n",
       "0          892       3                              Kelly, Mr. James    male   \n",
       "1          893       3              Wilkes, Mrs. James (Ellen Needs)  female   \n",
       "2          894       2                     Myles, Mr. Thomas Francis    male   \n",
       "3          895       3                              Wirz, Mr. Albert    male   \n",
       "4          896       3  Hirvonen, Mrs. Alexander (Helga E Lindqvist)  female   \n",
       "\n",
       "    Age  SibSp  Parch   Ticket     Fare Cabin Embarked  \n",
       "0  34.5      0      0   330911   7.8292   NaN        Q  \n",
       "1  47.0      1      0   363272   7.0000   NaN        S  \n",
       "2  62.0      0      0   240276   9.6875   NaN        Q  \n",
       "3  27.0      0      0   315154   8.6625   NaN        S  \n",
       "4  22.0      1      1  3101298  12.2875   NaN        S  "
      ]
     },
     "execution_count": 3,
     "metadata": {},
     "output_type": "execute_result"
    }
   ],
   "source": [
    "test_df = pd.read_csv('test.csv')\n",
    "print(test_df.shape)\n",
    "test_df.head()"
   ]
  },
  {
   "cell_type": "markdown",
   "metadata": {},
   "source": [
    "## Scrub"
   ]
  },
  {
   "cell_type": "code",
   "execution_count": 4,
   "metadata": {
    "ExecuteTime": {
     "end_time": "2020-12-25T19:51:27.488789Z",
     "start_time": "2020-12-25T19:51:27.469108Z"
    }
   },
   "outputs": [
    {
     "data": {
      "text/html": [
       "<div>\n",
       "<style scoped>\n",
       "    .dataframe tbody tr th:only-of-type {\n",
       "        vertical-align: middle;\n",
       "    }\n",
       "\n",
       "    .dataframe tbody tr th {\n",
       "        vertical-align: top;\n",
       "    }\n",
       "\n",
       "    .dataframe thead th {\n",
       "        text-align: right;\n",
       "    }\n",
       "</style>\n",
       "<table border=\"1\" class=\"dataframe\">\n",
       "  <thead>\n",
       "    <tr style=\"text-align: right;\">\n",
       "      <th></th>\n",
       "      <th>PassengerId</th>\n",
       "      <th>Survived</th>\n",
       "      <th>Pclass</th>\n",
       "      <th>Name</th>\n",
       "      <th>Sex</th>\n",
       "      <th>Age</th>\n",
       "      <th>SibSp</th>\n",
       "      <th>Parch</th>\n",
       "      <th>Ticket</th>\n",
       "      <th>Fare</th>\n",
       "      <th>Cabin</th>\n",
       "      <th>Embarked</th>\n",
       "    </tr>\n",
       "  </thead>\n",
       "  <tbody>\n",
       "    <tr>\n",
       "      <th>0</th>\n",
       "      <td>1</td>\n",
       "      <td>0</td>\n",
       "      <td>3</td>\n",
       "      <td>Braund, Mr. Owen Harris</td>\n",
       "      <td>male</td>\n",
       "      <td>22.0</td>\n",
       "      <td>1</td>\n",
       "      <td>0</td>\n",
       "      <td>A/5 21171</td>\n",
       "      <td>7.2500</td>\n",
       "      <td>NaN</td>\n",
       "      <td>S</td>\n",
       "    </tr>\n",
       "    <tr>\n",
       "      <th>1</th>\n",
       "      <td>2</td>\n",
       "      <td>1</td>\n",
       "      <td>1</td>\n",
       "      <td>Cumings, Mrs. John Bradley (Florence Briggs Th...</td>\n",
       "      <td>female</td>\n",
       "      <td>38.0</td>\n",
       "      <td>1</td>\n",
       "      <td>0</td>\n",
       "      <td>PC 17599</td>\n",
       "      <td>71.2833</td>\n",
       "      <td>C85</td>\n",
       "      <td>C</td>\n",
       "    </tr>\n",
       "    <tr>\n",
       "      <th>2</th>\n",
       "      <td>3</td>\n",
       "      <td>1</td>\n",
       "      <td>3</td>\n",
       "      <td>Heikkinen, Miss. Laina</td>\n",
       "      <td>female</td>\n",
       "      <td>26.0</td>\n",
       "      <td>0</td>\n",
       "      <td>0</td>\n",
       "      <td>STON/O2. 3101282</td>\n",
       "      <td>7.9250</td>\n",
       "      <td>NaN</td>\n",
       "      <td>S</td>\n",
       "    </tr>\n",
       "    <tr>\n",
       "      <th>3</th>\n",
       "      <td>4</td>\n",
       "      <td>1</td>\n",
       "      <td>1</td>\n",
       "      <td>Futrelle, Mrs. Jacques Heath (Lily May Peel)</td>\n",
       "      <td>female</td>\n",
       "      <td>35.0</td>\n",
       "      <td>1</td>\n",
       "      <td>0</td>\n",
       "      <td>113803</td>\n",
       "      <td>53.1000</td>\n",
       "      <td>C123</td>\n",
       "      <td>S</td>\n",
       "    </tr>\n",
       "    <tr>\n",
       "      <th>4</th>\n",
       "      <td>5</td>\n",
       "      <td>0</td>\n",
       "      <td>3</td>\n",
       "      <td>Allen, Mr. William Henry</td>\n",
       "      <td>male</td>\n",
       "      <td>35.0</td>\n",
       "      <td>0</td>\n",
       "      <td>0</td>\n",
       "      <td>373450</td>\n",
       "      <td>8.0500</td>\n",
       "      <td>NaN</td>\n",
       "      <td>S</td>\n",
       "    </tr>\n",
       "  </tbody>\n",
       "</table>\n",
       "</div>"
      ],
      "text/plain": [
       "   PassengerId  Survived  Pclass  \\\n",
       "0            1         0       3   \n",
       "1            2         1       1   \n",
       "2            3         1       3   \n",
       "3            4         1       1   \n",
       "4            5         0       3   \n",
       "\n",
       "                                                Name     Sex   Age  SibSp  \\\n",
       "0                            Braund, Mr. Owen Harris    male  22.0      1   \n",
       "1  Cumings, Mrs. John Bradley (Florence Briggs Th...  female  38.0      1   \n",
       "2                             Heikkinen, Miss. Laina  female  26.0      0   \n",
       "3       Futrelle, Mrs. Jacques Heath (Lily May Peel)  female  35.0      1   \n",
       "4                           Allen, Mr. William Henry    male  35.0      0   \n",
       "\n",
       "   Parch            Ticket     Fare Cabin Embarked  \n",
       "0      0         A/5 21171   7.2500   NaN        S  \n",
       "1      0          PC 17599  71.2833   C85        C  \n",
       "2      0  STON/O2. 3101282   7.9250   NaN        S  \n",
       "3      0            113803  53.1000  C123        S  \n",
       "4      0            373450   8.0500   NaN        S  "
      ]
     },
     "execution_count": 4,
     "metadata": {},
     "output_type": "execute_result"
    }
   ],
   "source": [
    "train_df.head()"
   ]
  },
  {
   "cell_type": "code",
   "execution_count": 5,
   "metadata": {
    "ExecuteTime": {
     "end_time": "2020-12-25T19:51:27.904803Z",
     "start_time": "2020-12-25T19:51:27.893989Z"
    }
   },
   "outputs": [
    {
     "data": {
      "text/plain": [
       "PassengerId      0\n",
       "Survived         0\n",
       "Pclass           0\n",
       "Name             0\n",
       "Sex              0\n",
       "Age            177\n",
       "SibSp            0\n",
       "Parch            0\n",
       "Ticket           0\n",
       "Fare             0\n",
       "Cabin          687\n",
       "Embarked         2\n",
       "dtype: int64"
      ]
     },
     "execution_count": 5,
     "metadata": {},
     "output_type": "execute_result"
    }
   ],
   "source": [
    "train_df.isna().sum()"
   ]
  },
  {
   "cell_type": "code",
   "execution_count": 6,
   "metadata": {
    "ExecuteTime": {
     "end_time": "2020-12-25T19:51:28.346796Z",
     "start_time": "2020-12-25T19:51:28.331850Z"
    }
   },
   "outputs": [
    {
     "data": {
      "text/plain": [
       "B96 B98        0.019608\n",
       "G6             0.019608\n",
       "C23 C25 C27    0.019608\n",
       "E101           0.014706\n",
       "F2             0.014706\n",
       "                 ...   \n",
       "C128           0.004902\n",
       "C70            0.004902\n",
       "E46            0.004902\n",
       "E10            0.004902\n",
       "D30            0.004902\n",
       "Name: Cabin, Length: 147, dtype: float64"
      ]
     },
     "execution_count": 6,
     "metadata": {},
     "output_type": "execute_result"
    }
   ],
   "source": [
    "train_df['Cabin'].value_counts(1).sort_values(ascending = False) "
   ]
  },
  {
   "cell_type": "code",
   "execution_count": 7,
   "metadata": {
    "ExecuteTime": {
     "end_time": "2020-12-25T19:51:28.853724Z",
     "start_time": "2020-12-25T19:51:28.845513Z"
    }
   },
   "outputs": [
    {
     "data": {
      "text/plain": [
       "0    678\n",
       "1    118\n",
       "2     80\n",
       "5      5\n",
       "3      5\n",
       "4      4\n",
       "6      1\n",
       "Name: Parch, dtype: int64"
      ]
     },
     "execution_count": 7,
     "metadata": {},
     "output_type": "execute_result"
    }
   ],
   "source": [
    "train_df['Parch'].value_counts()"
   ]
  },
  {
   "cell_type": "markdown",
   "metadata": {},
   "source": [
    "### Name"
   ]
  },
  {
   "cell_type": "markdown",
   "metadata": {},
   "source": [
    "> So this could be interesting.  We can make the assumption that each full name on the Titanic is unique.  However, if we were to slice out just the last name, we could see if there is any correlation between last name (family) and survival."
   ]
  },
  {
   "cell_type": "code",
   "execution_count": 8,
   "metadata": {
    "ExecuteTime": {
     "end_time": "2020-12-25T19:51:30.407095Z",
     "start_time": "2020-12-25T19:51:30.397160Z"
    }
   },
   "outputs": [
    {
     "data": {
      "text/plain": [
       "McNamee, Mr. Neal                   1\n",
       "Youseff, Mr. Gerious                1\n",
       "Salonen, Mr. Johan Werner           1\n",
       "Padro y Manent, Mr. Julian          1\n",
       "Canavan, Miss. Mary                 1\n",
       "                                   ..\n",
       "O'Sullivan, Miss. Bridget Mary      1\n",
       "Hegarty, Miss. Hanora \"Nora\"        1\n",
       "Badt, Mr. Mohamed                   1\n",
       "Holm, Mr. John Fredrik Alexander    1\n",
       "Davies, Mr. Charles Henry           1\n",
       "Name: Name, Length: 891, dtype: int64"
      ]
     },
     "execution_count": 8,
     "metadata": {},
     "output_type": "execute_result"
    }
   ],
   "source": [
    "# Checking the assumption that each name is unique.\n",
    "\n",
    "train_df['Name'].value_counts()"
   ]
  },
  {
   "cell_type": "code",
   "execution_count": 9,
   "metadata": {
    "ExecuteTime": {
     "end_time": "2020-12-25T19:51:30.905264Z",
     "start_time": "2020-12-25T19:51:30.884224Z"
    }
   },
   "outputs": [
    {
     "data": {
      "text/plain": [
       "['Braund',\n",
       " 'Cumings',\n",
       " 'Heikkinen',\n",
       " 'Futrelle',\n",
       " 'Allen',\n",
       " 'Moran',\n",
       " 'McCarthy',\n",
       " 'Palsson',\n",
       " 'Johnson',\n",
       " 'Nasser',\n",
       " 'Sandstrom',\n",
       " 'Bonnell',\n",
       " 'Saundercock',\n",
       " 'Andersson',\n",
       " 'Vestrom',\n",
       " 'Hewlett',\n",
       " 'Rice',\n",
       " 'Williams',\n",
       " 'Vander Planke',\n",
       " 'Masselmani',\n",
       " 'Fynney',\n",
       " 'Beesley',\n",
       " 'McGowan',\n",
       " 'Sloper',\n",
       " 'Palsson',\n",
       " 'Asplund',\n",
       " 'Emir',\n",
       " 'Fortune',\n",
       " \"O'Dwyer\",\n",
       " 'Todoroff',\n",
       " 'Uruchurtu',\n",
       " 'Spencer',\n",
       " 'Glynn',\n",
       " 'Wheadon',\n",
       " 'Meyer',\n",
       " 'Holverson',\n",
       " 'Mamee',\n",
       " 'Cann',\n",
       " 'Vander Planke',\n",
       " 'Nicola-Yarred',\n",
       " 'Ahlin',\n",
       " 'Turpin',\n",
       " 'Kraeff',\n",
       " 'Laroche',\n",
       " 'Devaney',\n",
       " 'Rogers',\n",
       " 'Lennon',\n",
       " \"O'Driscoll\",\n",
       " 'Samaan',\n",
       " 'Arnold-Franchi',\n",
       " 'Panula',\n",
       " 'Nosworthy',\n",
       " 'Harper',\n",
       " 'Faunthorpe',\n",
       " 'Ostby',\n",
       " 'Woolner',\n",
       " 'Rugg',\n",
       " 'Novel',\n",
       " 'West',\n",
       " 'Goodwin',\n",
       " 'Sirayanian',\n",
       " 'Icard',\n",
       " 'Harris',\n",
       " 'Skoog',\n",
       " 'Stewart',\n",
       " 'Moubarek',\n",
       " 'Nye',\n",
       " 'Crease',\n",
       " 'Andersson',\n",
       " 'Kink',\n",
       " 'Jenkin',\n",
       " 'Goodwin',\n",
       " 'Hood',\n",
       " 'Chronopoulos',\n",
       " 'Bing',\n",
       " 'Moen',\n",
       " 'Staneff',\n",
       " 'Moutal',\n",
       " 'Caldwell',\n",
       " 'Dowdell',\n",
       " 'Waelens',\n",
       " 'Sheerlinck',\n",
       " 'McDermott',\n",
       " 'Carrau',\n",
       " 'Ilett',\n",
       " 'Backstrom',\n",
       " 'Ford',\n",
       " 'Slocovski',\n",
       " 'Fortune',\n",
       " 'Celotti',\n",
       " 'Christmann',\n",
       " 'Andreasson',\n",
       " 'Chaffee',\n",
       " 'Dean',\n",
       " 'Coxon',\n",
       " 'Shorney',\n",
       " 'Goldschmidt',\n",
       " 'Greenfield',\n",
       " 'Doling',\n",
       " 'Kantor',\n",
       " 'Petranec',\n",
       " 'Petroff',\n",
       " 'White',\n",
       " 'Johansson',\n",
       " 'Gustafsson',\n",
       " 'Mionoff',\n",
       " 'Salkjelsvik',\n",
       " 'Moss',\n",
       " 'Rekic',\n",
       " 'Moran',\n",
       " 'Porter',\n",
       " 'Zabour',\n",
       " 'Barton',\n",
       " 'Jussila',\n",
       " 'Attalah',\n",
       " 'Pekoniemi',\n",
       " 'Connors',\n",
       " 'Turpin',\n",
       " 'Baxter',\n",
       " 'Andersson',\n",
       " 'Hickman',\n",
       " 'Moore',\n",
       " 'Nasser',\n",
       " 'Webber',\n",
       " 'White',\n",
       " 'Nicola-Yarred',\n",
       " 'McMahon',\n",
       " 'Madsen',\n",
       " 'Peter',\n",
       " 'Ekstrom',\n",
       " 'Drazenoic',\n",
       " 'Coelho',\n",
       " 'Robins',\n",
       " 'Weisz',\n",
       " 'Sobey',\n",
       " 'Richard',\n",
       " 'Newsom',\n",
       " 'Futrelle',\n",
       " 'Osen',\n",
       " 'Giglio',\n",
       " 'Boulos',\n",
       " 'Nysten',\n",
       " 'Hakkarainen',\n",
       " 'Burke',\n",
       " 'Andrew',\n",
       " 'Nicholls',\n",
       " 'Andersson',\n",
       " 'Ford',\n",
       " 'Navratil',\n",
       " 'Byles',\n",
       " 'Bateman',\n",
       " 'Pears',\n",
       " 'Meo',\n",
       " 'van Billiard',\n",
       " 'Olsen',\n",
       " 'Williams',\n",
       " 'Gilnagh',\n",
       " 'Corn',\n",
       " 'Smiljanic',\n",
       " 'Sage',\n",
       " 'Cribb',\n",
       " 'Watt',\n",
       " 'Bengtsson',\n",
       " 'Calic',\n",
       " 'Panula',\n",
       " 'Goldsmith',\n",
       " 'Chibnall',\n",
       " 'Skoog',\n",
       " 'Baumann',\n",
       " 'Ling',\n",
       " 'Van der hoef',\n",
       " 'Rice',\n",
       " 'Johnson',\n",
       " 'Sivola',\n",
       " 'Smith',\n",
       " 'Klasen',\n",
       " 'Lefebre',\n",
       " 'Isham',\n",
       " 'Hale',\n",
       " 'Leonard',\n",
       " 'Sage',\n",
       " 'Pernot',\n",
       " 'Asplund',\n",
       " 'Becker',\n",
       " 'Kink-Heilmann',\n",
       " 'Rood',\n",
       " \"O'Brien\",\n",
       " 'Romaine',\n",
       " 'Bourke',\n",
       " 'Turcin',\n",
       " 'Pinsky',\n",
       " 'Carbines',\n",
       " 'Andersen-Jensen',\n",
       " 'Navratil',\n",
       " 'Brown',\n",
       " 'Lurette',\n",
       " 'Mernagh',\n",
       " 'Olsen',\n",
       " 'Madigan',\n",
       " 'Yrois',\n",
       " 'Vande Walle',\n",
       " 'Sage',\n",
       " 'Johanson',\n",
       " 'Youseff',\n",
       " 'Cohen',\n",
       " 'Strom',\n",
       " 'Backstrom',\n",
       " 'Albimona',\n",
       " 'Carr',\n",
       " 'Blank',\n",
       " 'Ali',\n",
       " 'Cameron',\n",
       " 'Perkin',\n",
       " 'Givard',\n",
       " 'Kiernan',\n",
       " 'Newell',\n",
       " 'Honkanen',\n",
       " 'Jacobsohn',\n",
       " 'Bazzani',\n",
       " 'Harris',\n",
       " 'Sunderland',\n",
       " 'Bracken',\n",
       " 'Green',\n",
       " 'Nenkoff',\n",
       " 'Hoyt',\n",
       " 'Berglund',\n",
       " 'Mellors',\n",
       " 'Lovell',\n",
       " 'Fahlstrom',\n",
       " 'Lefebre',\n",
       " 'Harris',\n",
       " 'Larsson',\n",
       " 'Sjostedt',\n",
       " 'Asplund',\n",
       " 'Leyson',\n",
       " 'Harknett',\n",
       " 'Hold',\n",
       " 'Collyer',\n",
       " 'Pengelly',\n",
       " 'Hunt',\n",
       " 'Zabour',\n",
       " 'Murphy',\n",
       " 'Coleridge',\n",
       " 'Maenpaa',\n",
       " 'Attalah',\n",
       " 'Minahan',\n",
       " 'Lindahl',\n",
       " 'Hamalainen',\n",
       " 'Beckwith',\n",
       " 'Carter',\n",
       " 'Reed',\n",
       " 'Strom',\n",
       " 'Stead',\n",
       " 'Lobb',\n",
       " 'Rosblom',\n",
       " 'Touma',\n",
       " 'Thorne',\n",
       " 'Cherry',\n",
       " 'Ward',\n",
       " 'Parrish',\n",
       " 'Smith',\n",
       " 'Asplund',\n",
       " 'Taussig',\n",
       " 'Harrison',\n",
       " 'Henry',\n",
       " 'Reeves',\n",
       " 'Panula',\n",
       " 'Persson',\n",
       " 'Graham',\n",
       " 'Bissette',\n",
       " 'Cairns',\n",
       " 'Tornquist',\n",
       " 'Mellinger',\n",
       " 'Natsch',\n",
       " 'Healy',\n",
       " 'Andrews',\n",
       " 'Lindblom',\n",
       " 'Parkes',\n",
       " 'Rice',\n",
       " 'Abbott',\n",
       " 'Duane',\n",
       " 'Olsson',\n",
       " 'de Pelsmaeker',\n",
       " 'Dorking',\n",
       " 'Smith',\n",
       " 'Stankovic',\n",
       " 'de Mulder',\n",
       " 'Naidenoff',\n",
       " 'Hosono',\n",
       " 'Connolly',\n",
       " 'Barber',\n",
       " 'Bishop',\n",
       " 'Levy',\n",
       " 'Haas',\n",
       " 'Mineff',\n",
       " 'Lewy',\n",
       " 'Hanna',\n",
       " 'Allison',\n",
       " 'Saalfeld',\n",
       " 'Baxter',\n",
       " 'Kelly',\n",
       " 'McCoy',\n",
       " 'Johnson',\n",
       " 'Keane',\n",
       " 'Williams',\n",
       " 'Allison',\n",
       " 'Fleming',\n",
       " 'Penasco y Castellana',\n",
       " 'Abelson',\n",
       " 'Francatelli',\n",
       " 'Hays',\n",
       " 'Ryerson',\n",
       " 'Lahtinen',\n",
       " 'Hendekovic',\n",
       " 'Hart',\n",
       " 'Nilsson',\n",
       " 'Kantor',\n",
       " 'Moraweck',\n",
       " 'Wick',\n",
       " 'Spedden',\n",
       " 'Dennis',\n",
       " 'Danoff',\n",
       " 'Slayter',\n",
       " 'Caldwell',\n",
       " 'Sage',\n",
       " 'Young',\n",
       " 'Nysveen',\n",
       " 'Ball',\n",
       " 'Goldsmith',\n",
       " 'Hippach',\n",
       " 'McCoy',\n",
       " 'Partner',\n",
       " 'Graham',\n",
       " 'Vander Planke',\n",
       " 'Frauenthal',\n",
       " 'Denkoff',\n",
       " 'Pears',\n",
       " 'Burns',\n",
       " 'Dahl',\n",
       " 'Blackwell',\n",
       " 'Navratil',\n",
       " 'Fortune',\n",
       " 'Collander',\n",
       " 'Sedgwick',\n",
       " 'Fox',\n",
       " 'Brown',\n",
       " 'Smith',\n",
       " 'Davison',\n",
       " 'Coutts',\n",
       " 'Dimic',\n",
       " 'Odahl',\n",
       " 'Williams-Lambert',\n",
       " 'Elias',\n",
       " 'Arnold-Franchi',\n",
       " 'Yousif',\n",
       " 'Vanden Steen',\n",
       " 'Bowerman',\n",
       " 'Funk',\n",
       " 'McGovern',\n",
       " 'Mockler',\n",
       " 'Skoog',\n",
       " 'del Carlo',\n",
       " 'Barbara',\n",
       " 'Asim',\n",
       " \"O'Brien\",\n",
       " 'Adahl',\n",
       " 'Warren',\n",
       " 'Moussa',\n",
       " 'Jermyn',\n",
       " 'Aubart',\n",
       " 'Harder',\n",
       " 'Wiklund',\n",
       " 'Beavan',\n",
       " 'Ringhini',\n",
       " 'Palsson',\n",
       " 'Meyer',\n",
       " 'Landergren',\n",
       " 'Widener',\n",
       " 'Betros',\n",
       " 'Gustafsson',\n",
       " 'Bidois',\n",
       " 'Nakid',\n",
       " 'Tikkanen',\n",
       " 'Holverson',\n",
       " 'Plotcharsky',\n",
       " 'Davies',\n",
       " 'Goodwin',\n",
       " 'Buss',\n",
       " 'Sadlier',\n",
       " 'Lehmann',\n",
       " 'Carter',\n",
       " 'Jansson',\n",
       " 'Gustafsson',\n",
       " 'Newell',\n",
       " 'Sandstrom',\n",
       " 'Johansson',\n",
       " 'Olsson',\n",
       " 'McKane',\n",
       " 'Pain',\n",
       " 'Trout',\n",
       " 'Niskanen',\n",
       " 'Adams',\n",
       " 'Jussila',\n",
       " 'Hakkarainen',\n",
       " 'Oreskovic',\n",
       " 'Gale',\n",
       " 'Widegren',\n",
       " 'Richards',\n",
       " 'Birkeland',\n",
       " 'Lefebre',\n",
       " 'Sdycoff',\n",
       " 'Hart',\n",
       " 'Minahan',\n",
       " 'Cunningham',\n",
       " 'Sundman',\n",
       " 'Meek',\n",
       " 'Drew',\n",
       " 'Silven',\n",
       " 'Matthews',\n",
       " 'Van Impe',\n",
       " 'Gheorgheff',\n",
       " 'Charters',\n",
       " 'Zimmerman',\n",
       " 'Danbom',\n",
       " 'Rosblom',\n",
       " 'Wiseman',\n",
       " 'Clarke',\n",
       " 'Phillips',\n",
       " 'Flynn',\n",
       " 'Pickard',\n",
       " 'Bjornstrom-Steffansson',\n",
       " 'Thorneycroft',\n",
       " 'Louch',\n",
       " 'Kallio',\n",
       " 'Silvey',\n",
       " 'Carter',\n",
       " 'Ford',\n",
       " 'Richards',\n",
       " 'Fortune',\n",
       " 'Kvillner',\n",
       " 'Hart',\n",
       " 'Hampe',\n",
       " 'Petterson',\n",
       " 'Reynaldo',\n",
       " 'Johannesen-Bratthammer',\n",
       " 'Dodge',\n",
       " 'Mellinger',\n",
       " 'Seward',\n",
       " 'Baclini',\n",
       " 'Peuchen',\n",
       " 'West',\n",
       " 'Hagland',\n",
       " 'Foreman',\n",
       " 'Goldenberg',\n",
       " 'Peduzzi',\n",
       " 'Jalsevac',\n",
       " 'Millet',\n",
       " 'Kenyon',\n",
       " 'Toomey',\n",
       " \"O'Connor\",\n",
       " 'Anderson',\n",
       " 'Morley',\n",
       " 'Gee',\n",
       " 'Milling',\n",
       " 'Maisner',\n",
       " 'Goncalves',\n",
       " 'Campbell',\n",
       " 'Smart',\n",
       " 'Scanlan',\n",
       " 'Baclini',\n",
       " 'Keefe',\n",
       " 'Cacic',\n",
       " 'West',\n",
       " 'Jerwan',\n",
       " 'Strandberg',\n",
       " 'Clifford',\n",
       " 'Renouf',\n",
       " 'Braund',\n",
       " 'Karlsson',\n",
       " 'Hirvonen',\n",
       " 'Goodwin',\n",
       " 'Frost',\n",
       " 'Rouse',\n",
       " 'Turkula',\n",
       " 'Bishop',\n",
       " 'Lefebre',\n",
       " 'Hoyt',\n",
       " 'Kent',\n",
       " 'Somerton',\n",
       " 'Coutts',\n",
       " 'Hagland',\n",
       " 'Windelov',\n",
       " 'Molson',\n",
       " 'Artagaveytia',\n",
       " 'Stanley',\n",
       " 'Yousseff',\n",
       " 'Eustis',\n",
       " 'Shellard',\n",
       " 'Allison',\n",
       " 'Svensson',\n",
       " 'Calic',\n",
       " 'Canavan',\n",
       " \"O'Sullivan\",\n",
       " 'Laitinen',\n",
       " 'Maioni',\n",
       " 'Penasco y Castellana',\n",
       " 'Quick',\n",
       " 'Bradley',\n",
       " 'Olsen',\n",
       " 'Lang',\n",
       " 'Daly',\n",
       " 'Webber',\n",
       " 'McGough',\n",
       " 'Rothschild',\n",
       " 'Coleff',\n",
       " 'Walker',\n",
       " 'Lemore',\n",
       " 'Ryan',\n",
       " 'Angle',\n",
       " 'Pavlovic',\n",
       " 'Perreault',\n",
       " 'Vovk',\n",
       " 'Lahoud',\n",
       " 'Hippach',\n",
       " 'Kassem',\n",
       " 'Farrell',\n",
       " 'Ridsdale',\n",
       " 'Farthing',\n",
       " 'Salonen',\n",
       " 'Hocking',\n",
       " 'Quick',\n",
       " 'Toufik',\n",
       " 'Elias',\n",
       " 'Peter',\n",
       " 'Cacic',\n",
       " 'Hart',\n",
       " 'Butt',\n",
       " 'LeRoy',\n",
       " 'Risien',\n",
       " 'Frolicher',\n",
       " 'Crosby',\n",
       " 'Andersson',\n",
       " 'Andersson',\n",
       " 'Beane',\n",
       " 'Douglas',\n",
       " 'Nicholson',\n",
       " 'Beane',\n",
       " 'Padro y Manent',\n",
       " 'Goldsmith',\n",
       " 'Davies',\n",
       " 'Thayer',\n",
       " 'Sharp',\n",
       " \"O'Brien\",\n",
       " 'Leeni',\n",
       " 'Ohman',\n",
       " 'Wright',\n",
       " 'Duff Gordon',\n",
       " 'Robbins',\n",
       " 'Taussig',\n",
       " 'de Messemaeker',\n",
       " 'Morrow',\n",
       " 'Sivic',\n",
       " 'Norman',\n",
       " 'Simmons',\n",
       " 'Meanwell',\n",
       " 'Davies',\n",
       " 'Stoytcheff',\n",
       " 'Palsson',\n",
       " 'Doharr',\n",
       " 'Jonsson',\n",
       " 'Harris',\n",
       " 'Appleton',\n",
       " 'Flynn',\n",
       " 'Kelly',\n",
       " 'Rush',\n",
       " 'Patchett',\n",
       " 'Garside',\n",
       " 'Silvey',\n",
       " 'Caram',\n",
       " 'Jussila',\n",
       " 'Christy',\n",
       " 'Thayer',\n",
       " 'Downton',\n",
       " 'Ross',\n",
       " 'Paulner',\n",
       " 'Taussig',\n",
       " 'Jarvis',\n",
       " 'Frolicher-Stehli',\n",
       " 'Gilinski',\n",
       " 'Murdlin',\n",
       " 'Rintamaki',\n",
       " 'Stephenson',\n",
       " 'Elsbury',\n",
       " 'Bourke',\n",
       " 'Chapman',\n",
       " 'Van Impe',\n",
       " 'Leitch',\n",
       " 'Johnson',\n",
       " 'Boulos',\n",
       " 'Duff Gordon',\n",
       " 'Jacobsohn',\n",
       " 'Slabenoff',\n",
       " 'Harrington',\n",
       " 'Torber',\n",
       " 'Homer',\n",
       " 'Lindell',\n",
       " 'Karaic',\n",
       " 'Daniel',\n",
       " 'Laroche',\n",
       " 'Shutes',\n",
       " 'Andersson',\n",
       " 'Jardin',\n",
       " 'Murphy',\n",
       " 'Horgan',\n",
       " 'Brocklebank',\n",
       " 'Herman',\n",
       " 'Danbom',\n",
       " 'Lobb',\n",
       " 'Becker',\n",
       " 'Gavey',\n",
       " 'Yasbeck',\n",
       " 'Kimball',\n",
       " 'Nakid',\n",
       " 'Hansen',\n",
       " 'Bowen',\n",
       " 'Sutton',\n",
       " 'Kirkland',\n",
       " 'Longley',\n",
       " 'Bostandyeff',\n",
       " \"O'Connell\",\n",
       " 'Barkworth',\n",
       " 'Lundahl',\n",
       " 'Stahelin-Maeglin',\n",
       " 'Parr',\n",
       " 'Skoog',\n",
       " 'Davis',\n",
       " 'Leinonen',\n",
       " 'Collyer',\n",
       " 'Panula',\n",
       " 'Thorneycroft',\n",
       " 'Jensen',\n",
       " 'Sagesser',\n",
       " 'Skoog',\n",
       " 'Foo',\n",
       " 'Baclini',\n",
       " 'Harper',\n",
       " 'Cor',\n",
       " 'Simonius-Blumer',\n",
       " 'Willey',\n",
       " 'Stanley',\n",
       " 'Mitkoff',\n",
       " 'Doling',\n",
       " 'Kalvik',\n",
       " \"O'Leary\",\n",
       " 'Hegarty',\n",
       " 'Hickman',\n",
       " 'Radeff',\n",
       " 'Bourke',\n",
       " 'Eitemiller',\n",
       " 'Newell',\n",
       " 'Frauenthal',\n",
       " 'Badt',\n",
       " 'Colley',\n",
       " 'Coleff',\n",
       " 'Lindqvist',\n",
       " 'Hickman',\n",
       " 'Butler',\n",
       " 'Rommetvedt',\n",
       " 'Cook',\n",
       " 'Taylor',\n",
       " 'Brown',\n",
       " 'Davidson',\n",
       " 'Mitchell',\n",
       " 'Wilhelms',\n",
       " 'Watson',\n",
       " 'Edvardsson',\n",
       " 'Sawyer',\n",
       " 'Turja',\n",
       " 'Goodwin',\n",
       " 'Cardeza',\n",
       " 'Peters',\n",
       " 'Hassab',\n",
       " 'Olsvigen',\n",
       " 'Goodwin',\n",
       " 'Brown',\n",
       " 'Laroche',\n",
       " 'Panula',\n",
       " 'Dakic',\n",
       " 'Fischer',\n",
       " 'Madill',\n",
       " 'Dick',\n",
       " 'Karun',\n",
       " 'Lam',\n",
       " 'Saad',\n",
       " 'Weir',\n",
       " 'Chapman',\n",
       " 'Kelly',\n",
       " 'Mullens',\n",
       " 'Thayer',\n",
       " 'Humblen',\n",
       " 'Astor',\n",
       " 'Silverthorne',\n",
       " 'Barbara',\n",
       " 'Gallagher',\n",
       " 'Hansen',\n",
       " 'Morley',\n",
       " 'Kelly',\n",
       " 'Calderhead',\n",
       " 'Cleaver',\n",
       " 'Moubarek',\n",
       " 'Mayne',\n",
       " 'Klaber',\n",
       " 'Taylor',\n",
       " 'Larsson',\n",
       " 'Greenberg',\n",
       " 'Soholt',\n",
       " 'Endres',\n",
       " 'Troutt',\n",
       " 'McEvoy',\n",
       " 'Johnson',\n",
       " 'Harper',\n",
       " 'Jensen',\n",
       " 'Gillespie',\n",
       " 'Hodges',\n",
       " 'Chambers',\n",
       " 'Oreskovic',\n",
       " 'Renouf',\n",
       " 'Mannion',\n",
       " 'Bryhl',\n",
       " 'Ilmakangas',\n",
       " 'Allen',\n",
       " 'Hassan',\n",
       " 'Knight',\n",
       " 'Berriman',\n",
       " 'Troupiansky',\n",
       " 'Williams',\n",
       " 'Ford',\n",
       " 'Lesurer',\n",
       " 'Ivanoff',\n",
       " 'Nankoff',\n",
       " 'Hawksford',\n",
       " 'Cavendish',\n",
       " 'Ryerson',\n",
       " 'McNamee',\n",
       " 'Stranden',\n",
       " 'Crosby',\n",
       " 'Abbott',\n",
       " 'Sinkkonen',\n",
       " 'Marvin',\n",
       " 'Connaghton',\n",
       " 'Wells',\n",
       " 'Moor',\n",
       " 'Vande Velde',\n",
       " 'Jonkoff',\n",
       " 'Herman',\n",
       " 'Hamalainen',\n",
       " 'Carlsson',\n",
       " 'Bailey',\n",
       " 'Theobald',\n",
       " 'Rothes',\n",
       " 'Garfirth',\n",
       " 'Nirva',\n",
       " 'Barah',\n",
       " 'Carter',\n",
       " 'Eklund',\n",
       " 'Hogeboom',\n",
       " 'Brewe',\n",
       " 'Mangan',\n",
       " 'Moran',\n",
       " 'Gronnestad',\n",
       " 'Lievens',\n",
       " 'Jensen',\n",
       " 'Mack',\n",
       " 'Elias',\n",
       " 'Hocking',\n",
       " 'Myhrman',\n",
       " 'Tobin',\n",
       " 'Emanuel',\n",
       " 'Kilgannon',\n",
       " 'Robert',\n",
       " 'Ayoub',\n",
       " 'Dick',\n",
       " 'Long',\n",
       " 'Johnston',\n",
       " 'Ali',\n",
       " 'Harmer',\n",
       " 'Sjoblom',\n",
       " 'Rice',\n",
       " 'Dean',\n",
       " 'Guggenheim',\n",
       " 'Keane',\n",
       " 'Gaskell',\n",
       " 'Sage',\n",
       " 'Hoyt',\n",
       " 'Dantcheff',\n",
       " 'Otter',\n",
       " 'Leader',\n",
       " 'Osman',\n",
       " 'Ibrahim Shawah',\n",
       " 'Van Impe',\n",
       " 'Ponesell',\n",
       " 'Collyer',\n",
       " 'Carter',\n",
       " 'Thomas',\n",
       " 'Hedman',\n",
       " 'Johansson',\n",
       " 'Andrews',\n",
       " 'Pettersson',\n",
       " 'Meyer',\n",
       " 'Chambers',\n",
       " 'Alexander',\n",
       " 'Lester',\n",
       " 'Slemen',\n",
       " 'Andersson',\n",
       " 'Tomlin',\n",
       " 'Fry',\n",
       " 'Heininen',\n",
       " 'Mallet',\n",
       " 'Holm',\n",
       " 'Skoog',\n",
       " 'Hays',\n",
       " 'Lulic',\n",
       " 'Reuchlin',\n",
       " 'Moor',\n",
       " 'Panula',\n",
       " 'Flynn',\n",
       " 'Lam',\n",
       " 'Mallet',\n",
       " 'McCormack',\n",
       " 'Stone',\n",
       " 'Yasbeck',\n",
       " 'Richards',\n",
       " 'Saad',\n",
       " 'Augustsson',\n",
       " 'Allum',\n",
       " 'Compton',\n",
       " 'Pasic',\n",
       " 'Sirota',\n",
       " 'Chip',\n",
       " 'Marechal',\n",
       " 'Alhomaki',\n",
       " 'Mudd',\n",
       " 'Serepeca',\n",
       " 'Lemberopolous',\n",
       " 'Culumovic',\n",
       " 'Abbing',\n",
       " 'Sage',\n",
       " 'Markoff',\n",
       " 'Harper',\n",
       " 'Goldenberg',\n",
       " 'Andersson',\n",
       " 'Svensson',\n",
       " 'Boulos',\n",
       " 'Lines',\n",
       " 'Carter',\n",
       " 'Aks',\n",
       " 'Wick',\n",
       " 'Daly',\n",
       " 'Baclini',\n",
       " 'Razi',\n",
       " 'Hansen',\n",
       " 'Giles',\n",
       " 'Swift',\n",
       " 'Sage',\n",
       " 'Gill',\n",
       " 'Bystrom',\n",
       " 'Duran y More',\n",
       " 'Roebling',\n",
       " 'van Melkebeke',\n",
       " 'Johnson',\n",
       " 'Balkic',\n",
       " 'Beckwith',\n",
       " 'Carlsson',\n",
       " 'Vander Cruyssen',\n",
       " 'Abelson',\n",
       " 'Najib',\n",
       " 'Gustafsson',\n",
       " 'Petroff',\n",
       " 'Laleff',\n",
       " 'Potter',\n",
       " 'Shelley',\n",
       " 'Markun',\n",
       " 'Dahlberg',\n",
       " 'Banfield',\n",
       " 'Sutehall',\n",
       " 'Rice',\n",
       " 'Montvila',\n",
       " 'Graham',\n",
       " 'Johnston',\n",
       " 'Behr',\n",
       " 'Dooley']"
      ]
     },
     "execution_count": 9,
     "metadata": {},
     "output_type": "execute_result"
    }
   ],
   "source": [
    "last_names = []\n",
    "for name in train_df['Name']:\n",
    "    name = name.split(',')[0]\n",
    "    last_names.append(name)\n",
    "\n",
    "last_names"
   ]
  },
  {
   "cell_type": "code",
   "execution_count": 10,
   "metadata": {
    "ExecuteTime": {
     "end_time": "2020-12-25T19:51:31.565046Z",
     "start_time": "2020-12-25T19:51:31.540442Z"
    }
   },
   "outputs": [
    {
     "data": {
      "text/html": [
       "<div>\n",
       "<style scoped>\n",
       "    .dataframe tbody tr th:only-of-type {\n",
       "        vertical-align: middle;\n",
       "    }\n",
       "\n",
       "    .dataframe tbody tr th {\n",
       "        vertical-align: top;\n",
       "    }\n",
       "\n",
       "    .dataframe thead th {\n",
       "        text-align: right;\n",
       "    }\n",
       "</style>\n",
       "<table border=\"1\" class=\"dataframe\">\n",
       "  <thead>\n",
       "    <tr style=\"text-align: right;\">\n",
       "      <th></th>\n",
       "      <th>PassengerId</th>\n",
       "      <th>Survived</th>\n",
       "      <th>Pclass</th>\n",
       "      <th>Sex</th>\n",
       "      <th>Age</th>\n",
       "      <th>SibSp</th>\n",
       "      <th>Parch</th>\n",
       "      <th>Ticket</th>\n",
       "      <th>Fare</th>\n",
       "      <th>Cabin</th>\n",
       "      <th>Embarked</th>\n",
       "      <th>Last Name</th>\n",
       "    </tr>\n",
       "  </thead>\n",
       "  <tbody>\n",
       "    <tr>\n",
       "      <th>0</th>\n",
       "      <td>1</td>\n",
       "      <td>0</td>\n",
       "      <td>3</td>\n",
       "      <td>male</td>\n",
       "      <td>22.0</td>\n",
       "      <td>1</td>\n",
       "      <td>0</td>\n",
       "      <td>A/5 21171</td>\n",
       "      <td>7.2500</td>\n",
       "      <td>NaN</td>\n",
       "      <td>S</td>\n",
       "      <td>Braund</td>\n",
       "    </tr>\n",
       "    <tr>\n",
       "      <th>1</th>\n",
       "      <td>2</td>\n",
       "      <td>1</td>\n",
       "      <td>1</td>\n",
       "      <td>female</td>\n",
       "      <td>38.0</td>\n",
       "      <td>1</td>\n",
       "      <td>0</td>\n",
       "      <td>PC 17599</td>\n",
       "      <td>71.2833</td>\n",
       "      <td>C85</td>\n",
       "      <td>C</td>\n",
       "      <td>Cumings</td>\n",
       "    </tr>\n",
       "    <tr>\n",
       "      <th>2</th>\n",
       "      <td>3</td>\n",
       "      <td>1</td>\n",
       "      <td>3</td>\n",
       "      <td>female</td>\n",
       "      <td>26.0</td>\n",
       "      <td>0</td>\n",
       "      <td>0</td>\n",
       "      <td>STON/O2. 3101282</td>\n",
       "      <td>7.9250</td>\n",
       "      <td>NaN</td>\n",
       "      <td>S</td>\n",
       "      <td>Heikkinen</td>\n",
       "    </tr>\n",
       "    <tr>\n",
       "      <th>3</th>\n",
       "      <td>4</td>\n",
       "      <td>1</td>\n",
       "      <td>1</td>\n",
       "      <td>female</td>\n",
       "      <td>35.0</td>\n",
       "      <td>1</td>\n",
       "      <td>0</td>\n",
       "      <td>113803</td>\n",
       "      <td>53.1000</td>\n",
       "      <td>C123</td>\n",
       "      <td>S</td>\n",
       "      <td>Futrelle</td>\n",
       "    </tr>\n",
       "    <tr>\n",
       "      <th>4</th>\n",
       "      <td>5</td>\n",
       "      <td>0</td>\n",
       "      <td>3</td>\n",
       "      <td>male</td>\n",
       "      <td>35.0</td>\n",
       "      <td>0</td>\n",
       "      <td>0</td>\n",
       "      <td>373450</td>\n",
       "      <td>8.0500</td>\n",
       "      <td>NaN</td>\n",
       "      <td>S</td>\n",
       "      <td>Allen</td>\n",
       "    </tr>\n",
       "  </tbody>\n",
       "</table>\n",
       "</div>"
      ],
      "text/plain": [
       "   PassengerId  Survived  Pclass     Sex   Age  SibSp  Parch  \\\n",
       "0            1         0       3    male  22.0      1      0   \n",
       "1            2         1       1  female  38.0      1      0   \n",
       "2            3         1       3  female  26.0      0      0   \n",
       "3            4         1       1  female  35.0      1      0   \n",
       "4            5         0       3    male  35.0      0      0   \n",
       "\n",
       "             Ticket     Fare Cabin Embarked  Last Name  \n",
       "0         A/5 21171   7.2500   NaN        S     Braund  \n",
       "1          PC 17599  71.2833   C85        C    Cumings  \n",
       "2  STON/O2. 3101282   7.9250   NaN        S  Heikkinen  \n",
       "3            113803  53.1000  C123        S   Futrelle  \n",
       "4            373450   8.0500   NaN        S      Allen  "
      ]
     },
     "execution_count": 10,
     "metadata": {},
     "output_type": "execute_result"
    }
   ],
   "source": [
    "train_df['Last Name'] = last_names\n",
    "train_df.drop('Name', axis = 1, inplace = True)\n",
    "train_df.head()"
   ]
  },
  {
   "cell_type": "code",
   "execution_count": 11,
   "metadata": {
    "ExecuteTime": {
     "end_time": "2020-12-25T19:51:32.605882Z",
     "start_time": "2020-12-25T19:51:32.596209Z"
    }
   },
   "outputs": [
    {
     "data": {
      "text/plain": [
       "Andersson    9\n",
       "Sage         7\n",
       "Panula       6\n",
       "Johnson      6\n",
       "Carter       6\n",
       "            ..\n",
       "Bissette     1\n",
       "Cameron      1\n",
       "Frost        1\n",
       "Farthing     1\n",
       "Lesurer      1\n",
       "Name: Last Name, Length: 667, dtype: int64"
      ]
     },
     "execution_count": 11,
     "metadata": {},
     "output_type": "execute_result"
    }
   ],
   "source": [
    "train_df['Last Name'].value_counts()"
   ]
  },
  {
   "cell_type": "markdown",
   "metadata": {},
   "source": [
    "> As expected, there are multiple people with the same last name, potentially indicating full families on board."
   ]
  },
  {
   "cell_type": "markdown",
   "metadata": {},
   "source": [
    "### Null Values"
   ]
  },
  {
   "cell_type": "code",
   "execution_count": 12,
   "metadata": {
    "ExecuteTime": {
     "end_time": "2020-12-25T19:51:35.908987Z",
     "start_time": "2020-12-25T19:51:35.900244Z"
    }
   },
   "outputs": [
    {
     "data": {
      "text/plain": [
       "PassengerId      0\n",
       "Survived         0\n",
       "Pclass           0\n",
       "Sex              0\n",
       "Age            177\n",
       "SibSp            0\n",
       "Parch            0\n",
       "Ticket           0\n",
       "Fare             0\n",
       "Cabin          687\n",
       "Embarked         2\n",
       "Last Name        0\n",
       "dtype: int64"
      ]
     },
     "execution_count": 12,
     "metadata": {},
     "output_type": "execute_result"
    }
   ],
   "source": [
    "train_df.isna().sum()"
   ]
  },
  {
   "cell_type": "markdown",
   "metadata": {},
   "source": [
    "#### Age - REDO WITH KNN IMPUTER"
   ]
  },
  {
   "cell_type": "code",
   "execution_count": 13,
   "metadata": {
    "ExecuteTime": {
     "end_time": "2020-12-25T19:51:41.941561Z",
     "start_time": "2020-12-25T19:51:41.931792Z"
    }
   },
   "outputs": [
    {
     "data": {
      "text/plain": [
       "24.00    30\n",
       "22.00    27\n",
       "18.00    26\n",
       "19.00    25\n",
       "30.00    25\n",
       "         ..\n",
       "55.50     1\n",
       "70.50     1\n",
       "66.00     1\n",
       "23.50     1\n",
       "0.42      1\n",
       "Name: Age, Length: 88, dtype: int64"
      ]
     },
     "execution_count": 13,
     "metadata": {},
     "output_type": "execute_result"
    }
   ],
   "source": [
    "train_df['Age'].value_counts()"
   ]
  },
  {
   "cell_type": "code",
   "execution_count": 21,
   "metadata": {
    "ExecuteTime": {
     "end_time": "2020-12-25T19:58:35.853501Z",
     "start_time": "2020-12-25T19:58:35.838102Z"
    }
   },
   "outputs": [
    {
     "ename": "AttributeError",
     "evalue": "'Series' object has no attribute 'reshape'",
     "output_type": "error",
     "traceback": [
      "\u001b[0;31m---------------------------------------------------------------------------\u001b[0m",
      "\u001b[0;31mAttributeError\u001b[0m                            Traceback (most recent call last)",
      "\u001b[0;32m<ipython-input-21-3ff756c16e69>\u001b[0m in \u001b[0;36m<module>\u001b[0;34m\u001b[0m\n\u001b[1;32m      1\u001b[0m \u001b[0mimputer\u001b[0m \u001b[0;34m=\u001b[0m \u001b[0mKNNImputer\u001b[0m\u001b[0;34m(\u001b[0m\u001b[0mn_neighbors\u001b[0m \u001b[0;34m=\u001b[0m \u001b[0;36m2\u001b[0m\u001b[0;34m)\u001b[0m\u001b[0;34m\u001b[0m\u001b[0;34m\u001b[0m\u001b[0m\n\u001b[0;32m----> 2\u001b[0;31m \u001b[0mtrain_df\u001b[0m\u001b[0;34m[\u001b[0m\u001b[0;34m'Age'\u001b[0m\u001b[0;34m]\u001b[0m \u001b[0;34m=\u001b[0m \u001b[0mimputer\u001b[0m\u001b[0;34m.\u001b[0m\u001b[0mfit_transform\u001b[0m\u001b[0;34m(\u001b[0m\u001b[0mtrain_df\u001b[0m\u001b[0;34m[\u001b[0m\u001b[0;34m'Age'\u001b[0m\u001b[0;34m]\u001b[0m\u001b[0;34m.\u001b[0m\u001b[0mreshape\u001b[0m\u001b[0;34m(\u001b[0m\u001b[0;36m1\u001b[0m\u001b[0;34m,\u001b[0m\u001b[0;34m-\u001b[0m\u001b[0;36m1\u001b[0m\u001b[0;34m)\u001b[0m\u001b[0;34m)\u001b[0m\u001b[0;34m\u001b[0m\u001b[0;34m\u001b[0m\u001b[0m\n\u001b[0m",
      "\u001b[0;32m~/opt/anaconda3/envs/learn-env/lib/python3.6/site-packages/pandas/core/generic.py\u001b[0m in \u001b[0;36m__getattr__\u001b[0;34m(self, name)\u001b[0m\n\u001b[1;32m   5272\u001b[0m             \u001b[0;32mif\u001b[0m \u001b[0mself\u001b[0m\u001b[0;34m.\u001b[0m\u001b[0m_info_axis\u001b[0m\u001b[0;34m.\u001b[0m\u001b[0m_can_hold_identifiers_and_holds_name\u001b[0m\u001b[0;34m(\u001b[0m\u001b[0mname\u001b[0m\u001b[0;34m)\u001b[0m\u001b[0;34m:\u001b[0m\u001b[0;34m\u001b[0m\u001b[0;34m\u001b[0m\u001b[0m\n\u001b[1;32m   5273\u001b[0m                 \u001b[0;32mreturn\u001b[0m \u001b[0mself\u001b[0m\u001b[0;34m[\u001b[0m\u001b[0mname\u001b[0m\u001b[0;34m]\u001b[0m\u001b[0;34m\u001b[0m\u001b[0;34m\u001b[0m\u001b[0m\n\u001b[0;32m-> 5274\u001b[0;31m             \u001b[0;32mreturn\u001b[0m \u001b[0mobject\u001b[0m\u001b[0;34m.\u001b[0m\u001b[0m__getattribute__\u001b[0m\u001b[0;34m(\u001b[0m\u001b[0mself\u001b[0m\u001b[0;34m,\u001b[0m \u001b[0mname\u001b[0m\u001b[0;34m)\u001b[0m\u001b[0;34m\u001b[0m\u001b[0;34m\u001b[0m\u001b[0m\n\u001b[0m\u001b[1;32m   5275\u001b[0m \u001b[0;34m\u001b[0m\u001b[0m\n\u001b[1;32m   5276\u001b[0m     \u001b[0;32mdef\u001b[0m \u001b[0m__setattr__\u001b[0m\u001b[0;34m(\u001b[0m\u001b[0mself\u001b[0m\u001b[0;34m,\u001b[0m \u001b[0mname\u001b[0m\u001b[0;34m:\u001b[0m \u001b[0mstr\u001b[0m\u001b[0;34m,\u001b[0m \u001b[0mvalue\u001b[0m\u001b[0;34m)\u001b[0m \u001b[0;34m->\u001b[0m \u001b[0;32mNone\u001b[0m\u001b[0;34m:\u001b[0m\u001b[0;34m\u001b[0m\u001b[0;34m\u001b[0m\u001b[0m\n",
      "\u001b[0;31mAttributeError\u001b[0m: 'Series' object has no attribute 'reshape'"
     ]
    }
   ],
   "source": [
    "imputer = KNNImputer(n_neighbors = 2)\n",
    "train_df['Age'] = imputer.fit_transform(train_df['Age'].reshape(1,-1))"
   ]
  },
  {
   "cell_type": "code",
   "execution_count": null,
   "metadata": {},
   "outputs": [],
   "source": []
  },
  {
   "cell_type": "code",
   "execution_count": 41,
   "metadata": {
    "ExecuteTime": {
     "end_time": "2020-12-25T19:03:08.647491Z",
     "start_time": "2020-12-25T19:03:08.635539Z"
    }
   },
   "outputs": [
    {
     "data": {
      "text/plain": [
       "28.00    202\n",
       "24.00     30\n",
       "22.00     27\n",
       "18.00     26\n",
       "19.00     25\n",
       "        ... \n",
       "55.50      1\n",
       "70.50      1\n",
       "66.00      1\n",
       "23.50      1\n",
       "0.42       1\n",
       "Name: Age, Length: 88, dtype: int64"
      ]
     },
     "execution_count": 41,
     "metadata": {},
     "output_type": "execute_result"
    }
   ],
   "source": [
    "train_df['Age'].fillna(train_df['Age'].median(), inplace = True)\n",
    "train_df['Age'].value_counts()"
   ]
  },
  {
   "cell_type": "code",
   "execution_count": 43,
   "metadata": {
    "ExecuteTime": {
     "end_time": "2020-12-25T19:03:27.321382Z",
     "start_time": "2020-12-25T19:03:27.315111Z"
    }
   },
   "outputs": [
    {
     "data": {
      "text/plain": [
       "0"
      ]
     },
     "execution_count": 43,
     "metadata": {},
     "output_type": "execute_result"
    }
   ],
   "source": [
    "train_df['Age'].isna().sum()"
   ]
  },
  {
   "cell_type": "markdown",
   "metadata": {},
   "source": [
    "#### Cabin"
   ]
  },
  {
   "cell_type": "code",
   "execution_count": 25,
   "metadata": {
    "ExecuteTime": {
     "end_time": "2020-12-25T18:52:51.330469Z",
     "start_time": "2020-12-25T18:52:51.313173Z"
    }
   },
   "outputs": [
    {
     "data": {
      "text/plain": [
       "C23 C25 C27    4\n",
       "G6             4\n",
       "B96 B98        4\n",
       "D              3\n",
       "E101           3\n",
       "              ..\n",
       "A24            1\n",
       "B4             1\n",
       "D30            1\n",
       "D46            1\n",
       "A14            1\n",
       "Name: Cabin, Length: 147, dtype: int64"
      ]
     },
     "execution_count": 25,
     "metadata": {},
     "output_type": "execute_result"
    }
   ],
   "source": [
    "train_df['Cabin'].value_counts()"
   ]
  },
  {
   "cell_type": "code",
   "execution_count": 31,
   "metadata": {
    "ExecuteTime": {
     "end_time": "2020-12-25T18:56:07.468709Z",
     "start_time": "2020-12-25T18:56:07.444546Z"
    }
   },
   "outputs": [
    {
     "data": {
      "text/html": [
       "<div>\n",
       "<style scoped>\n",
       "    .dataframe tbody tr th:only-of-type {\n",
       "        vertical-align: middle;\n",
       "    }\n",
       "\n",
       "    .dataframe tbody tr th {\n",
       "        vertical-align: top;\n",
       "    }\n",
       "\n",
       "    .dataframe thead th {\n",
       "        text-align: right;\n",
       "    }\n",
       "</style>\n",
       "<table border=\"1\" class=\"dataframe\">\n",
       "  <thead>\n",
       "    <tr style=\"text-align: right;\">\n",
       "      <th></th>\n",
       "      <th>PassengerId</th>\n",
       "      <th>Survived</th>\n",
       "      <th>Pclass</th>\n",
       "      <th>Sex</th>\n",
       "      <th>Age</th>\n",
       "      <th>SibSp</th>\n",
       "      <th>Parch</th>\n",
       "      <th>Ticket</th>\n",
       "      <th>Fare</th>\n",
       "      <th>Embarked</th>\n",
       "      <th>Last Name</th>\n",
       "    </tr>\n",
       "  </thead>\n",
       "  <tbody>\n",
       "    <tr>\n",
       "      <th>0</th>\n",
       "      <td>1</td>\n",
       "      <td>0</td>\n",
       "      <td>3</td>\n",
       "      <td>male</td>\n",
       "      <td>22.0</td>\n",
       "      <td>1</td>\n",
       "      <td>0</td>\n",
       "      <td>A/5 21171</td>\n",
       "      <td>7.2500</td>\n",
       "      <td>S</td>\n",
       "      <td>Braund</td>\n",
       "    </tr>\n",
       "    <tr>\n",
       "      <th>1</th>\n",
       "      <td>2</td>\n",
       "      <td>1</td>\n",
       "      <td>1</td>\n",
       "      <td>female</td>\n",
       "      <td>38.0</td>\n",
       "      <td>1</td>\n",
       "      <td>0</td>\n",
       "      <td>PC 17599</td>\n",
       "      <td>71.2833</td>\n",
       "      <td>C</td>\n",
       "      <td>Cumings</td>\n",
       "    </tr>\n",
       "  </tbody>\n",
       "</table>\n",
       "</div>"
      ],
      "text/plain": [
       "   PassengerId  Survived  Pclass     Sex   Age  SibSp  Parch     Ticket  \\\n",
       "0            1         0       3    male  22.0      1      0  A/5 21171   \n",
       "1            2         1       1  female  38.0      1      0   PC 17599   \n",
       "\n",
       "      Fare Embarked Last Name  \n",
       "0   7.2500        S    Braund  \n",
       "1  71.2833        C   Cumings  "
      ]
     },
     "execution_count": 31,
     "metadata": {},
     "output_type": "execute_result"
    }
   ],
   "source": [
    "train_df.drop('Cabin', axis = 1, inplace = True)\n",
    "train_df.head(2)"
   ]
  },
  {
   "cell_type": "markdown",
   "metadata": {},
   "source": [
    "#### Embarked"
   ]
  },
  {
   "cell_type": "code",
   "execution_count": 27,
   "metadata": {
    "ExecuteTime": {
     "end_time": "2020-12-25T18:53:44.132421Z",
     "start_time": "2020-12-25T18:53:44.126002Z"
    }
   },
   "outputs": [
    {
     "data": {
      "text/plain": [
       "2"
      ]
     },
     "execution_count": 27,
     "metadata": {},
     "output_type": "execute_result"
    }
   ],
   "source": [
    "train_df['Embarked'].isna().sum()"
   ]
  },
  {
   "cell_type": "code",
   "execution_count": 26,
   "metadata": {
    "ExecuteTime": {
     "end_time": "2020-12-25T18:53:17.634083Z",
     "start_time": "2020-12-25T18:53:17.624231Z"
    }
   },
   "outputs": [
    {
     "data": {
      "text/plain": [
       "S    644\n",
       "C    168\n",
       "Q     77\n",
       "Name: Embarked, dtype: int64"
      ]
     },
     "execution_count": 26,
     "metadata": {},
     "output_type": "execute_result"
    }
   ],
   "source": [
    "train_df['Embarked'].value_counts()"
   ]
  },
  {
   "cell_type": "code",
   "execution_count": 29,
   "metadata": {
    "ExecuteTime": {
     "end_time": "2020-12-25T18:54:25.491396Z",
     "start_time": "2020-12-25T18:54:25.482960Z"
    }
   },
   "outputs": [
    {
     "data": {
      "text/plain": [
       "0"
      ]
     },
     "execution_count": 29,
     "metadata": {},
     "output_type": "execute_result"
    }
   ],
   "source": [
    "train_df['Embarked'].fillna('S', inplace = True)\n",
    "train_df['Embarked'].isna().sum()"
   ]
  },
  {
   "cell_type": "markdown",
   "metadata": {},
   "source": [
    "#### Final Null Check"
   ]
  },
  {
   "cell_type": "code",
   "execution_count": 45,
   "metadata": {
    "ExecuteTime": {
     "end_time": "2020-12-25T19:04:07.417292Z",
     "start_time": "2020-12-25T19:04:07.407421Z"
    },
    "scrolled": true
   },
   "outputs": [
    {
     "data": {
      "text/plain": [
       "PassengerId    0\n",
       "Survived       0\n",
       "Pclass         0\n",
       "Sex            0\n",
       "Age            0\n",
       "SibSp          0\n",
       "Parch          0\n",
       "Ticket         0\n",
       "Fare           0\n",
       "Embarked       0\n",
       "Last Name      0\n",
       "dtype: int64"
      ]
     },
     "execution_count": 45,
     "metadata": {},
     "output_type": "execute_result"
    }
   ],
   "source": [
    "train_df.isna().sum()"
   ]
  },
  {
   "cell_type": "markdown",
   "metadata": {},
   "source": [
    "### Age Groups"
   ]
  },
  {
   "cell_type": "code",
   "execution_count": 58,
   "metadata": {
    "ExecuteTime": {
     "end_time": "2020-12-25T19:40:29.170709Z",
     "start_time": "2020-12-25T19:40:29.166123Z"
    }
   },
   "outputs": [],
   "source": [
    "train_df['Age Group'] = train_df['Age'].copy()"
   ]
  },
  {
   "cell_type": "code",
   "execution_count": 59,
   "metadata": {
    "ExecuteTime": {
     "end_time": "2020-12-25T19:40:29.673897Z",
     "start_time": "2020-12-25T19:40:29.656213Z"
    }
   },
   "outputs": [
    {
     "ename": "TypeError",
     "evalue": "'>=' not supported between instances of 'str' and 'int'",
     "output_type": "error",
     "traceback": [
      "\u001b[0;31m---------------------------------------------------------------------------\u001b[0m",
      "\u001b[0;31mTypeError\u001b[0m                                 Traceback (most recent call last)",
      "\u001b[0;32m<ipython-input-59-3b8d524dabff>\u001b[0m in \u001b[0;36m<module>\u001b[0;34m\u001b[0m\n\u001b[1;32m      4\u001b[0m     \u001b[0;32mif\u001b[0m \u001b[0mage\u001b[0m \u001b[0;34m>=\u001b[0m \u001b[0;36m15\u001b[0m \u001b[0;32mand\u001b[0m \u001b[0mage\u001b[0m \u001b[0;34m<=\u001b[0m \u001b[0;36m24\u001b[0m\u001b[0;34m:\u001b[0m\u001b[0;34m\u001b[0m\u001b[0;34m\u001b[0m\u001b[0m\n\u001b[1;32m      5\u001b[0m         \u001b[0mage\u001b[0m \u001b[0;34m=\u001b[0m \u001b[0;34m'15-24'\u001b[0m\u001b[0;34m\u001b[0m\u001b[0;34m\u001b[0m\u001b[0m\n\u001b[0;32m----> 6\u001b[0;31m     \u001b[0;32mif\u001b[0m \u001b[0mage\u001b[0m \u001b[0;34m>=\u001b[0m \u001b[0;36m25\u001b[0m \u001b[0;32mand\u001b[0m \u001b[0mage\u001b[0m \u001b[0;34m<=\u001b[0m \u001b[0;36m49\u001b[0m\u001b[0;34m:\u001b[0m\u001b[0;34m\u001b[0m\u001b[0;34m\u001b[0m\u001b[0m\n\u001b[0m\u001b[1;32m      7\u001b[0m         \u001b[0mage\u001b[0m \u001b[0;34m=\u001b[0m \u001b[0;34m'25-49'\u001b[0m\u001b[0;34m\u001b[0m\u001b[0;34m\u001b[0m\u001b[0m\n\u001b[1;32m      8\u001b[0m     \u001b[0;32mif\u001b[0m \u001b[0mage\u001b[0m \u001b[0;34m>=\u001b[0m \u001b[0;36m50\u001b[0m \u001b[0;32mand\u001b[0m \u001b[0mage\u001b[0m \u001b[0;34m<=\u001b[0m \u001b[0;36m64\u001b[0m\u001b[0;34m:\u001b[0m\u001b[0;34m\u001b[0m\u001b[0;34m\u001b[0m\u001b[0m\n",
      "\u001b[0;31mTypeError\u001b[0m: '>=' not supported between instances of 'str' and 'int'"
     ]
    }
   ],
   "source": [
    "for age in train_df['Age Group']:\n",
    "    if age <= 14:\n",
    "        age = '0-14'\n",
    "    if age >= 15 and age <= 24:\n",
    "        age = '15-24'\n",
    "    if age >= 25 and age <= 49:\n",
    "        age = '25-49'\n",
    "    if age >= 50 and age <= 64:\n",
    "        age = '50-64'\n",
    "    if age > 64:\n",
    "        age = \"65+\"\n",
    "        \n",
    "train_df.head()\n",
    "\n",
    "# age.replace"
   ]
  },
  {
   "cell_type": "code",
   "execution_count": 60,
   "metadata": {
    "ExecuteTime": {
     "end_time": "2020-12-25T19:40:30.334832Z",
     "start_time": "2020-12-25T19:40:30.328676Z"
    }
   },
   "outputs": [
    {
     "data": {
      "text/plain": [
       "numpy.float64"
      ]
     },
     "execution_count": 60,
     "metadata": {},
     "output_type": "execute_result"
    }
   ],
   "source": [
    "type(train_df['Age'][1])"
   ]
  },
  {
   "cell_type": "code",
   "execution_count": 61,
   "metadata": {
    "ExecuteTime": {
     "end_time": "2020-12-25T19:40:30.900697Z",
     "start_time": "2020-12-25T19:40:30.890621Z"
    }
   },
   "outputs": [
    {
     "data": {
      "text/plain": [
       "28.00    202\n",
       "24.00     30\n",
       "22.00     27\n",
       "18.00     26\n",
       "19.00     25\n",
       "        ... \n",
       "55.50      1\n",
       "70.50      1\n",
       "66.00      1\n",
       "23.50      1\n",
       "0.42       1\n",
       "Name: Age Group, Length: 88, dtype: int64"
      ]
     },
     "execution_count": 61,
     "metadata": {},
     "output_type": "execute_result"
    }
   ],
   "source": [
    "train_df['Age Group'].value_counts()"
   ]
  },
  {
   "cell_type": "markdown",
   "metadata": {},
   "source": [
    "## Explore"
   ]
  },
  {
   "cell_type": "code",
   "execution_count": 12,
   "metadata": {
    "ExecuteTime": {
     "end_time": "2020-12-25T17:40:13.962059Z",
     "start_time": "2020-12-25T17:40:12.277830Z"
    }
   },
   "outputs": [
    {
     "data": {
      "text/plain": [
       "<AxesSubplot:xlabel='Survived', ylabel='count'>"
      ]
     },
     "execution_count": 12,
     "metadata": {},
     "output_type": "execute_result"
    },
    {
     "data": {
      "image/png": "[encoded data removed]",
      "text/plain": [
       "<Figure size 432x288 with 1 Axes>"
      ]
     },
     "metadata": {
      "needs_background": "light"
     },
     "output_type": "display_data"
    }
   ],
   "source": [
    "sns.countplot(data = train_df, x = 'Survived');"
   ]
  },
  {
   "cell_type": "code",
   "execution_count": 46,
   "metadata": {
    "ExecuteTime": {
     "end_time": "2020-12-25T19:06:57.727465Z",
     "start_time": "2020-12-25T19:06:30.164287Z"
    }
   },
   "outputs": [
    {
     "data": {
      "text/plain": [
       "<AxesSubplot:xlabel='Age', ylabel='Survived'>"
      ]
     },
     "execution_count": 46,
     "metadata": {},
     "output_type": "execute_result"
    },
    {
     "data": {
      "image/png": "[encoded data removed]",
      "text/plain": [
       "<Figure size 432x288 with 1 Axes>"
      ]
     },
     "metadata": {
      "needs_background": "light"
     },
     "output_type": "display_data"
    }
   ],
   "source": [
    "sns.barplot(data = train_df, x = 'Age', y = 'Survived');"
   ]
  },
  {
   "cell_type": "markdown",
   "metadata": {},
   "source": [
    "## Model"
   ]
  },
  {
   "cell_type": "markdown",
   "metadata": {},
   "source": [
    "## Interpret"
   ]
  },
  {
   "cell_type": "markdown",
   "metadata": {},
   "source": [
    "## Conclusion"
   ]
  },
  {
   "cell_type": "code",
   "execution_count": null,
   "metadata": {},
   "outputs": [],
   "source": []
  }
 ],
 "metadata": {
  "kernelspec": {
   "display_name": "Python [conda env:learn-env] *",
   "language": "python",
   "name": "conda-env-learn-env-py"
  },
  "language_info": {
   "codemirror_mode": {
    "name": "ipython",
    "version": 3
   },
   "file_extension": ".py",
   "mimetype": "text/x-python",
   "name": "python",
   "nbconvert_exporter": "python",
   "pygments_lexer": "ipython3",
   "version": "3.6.9"
  },
  "toc": {
   "base_numbering": 1,
   "nav_menu": {},
   "number_sections": true,
   "sideBar": true,
   "skip_h1_title": false,
   "title_cell": "Table of Contents",
   "title_sidebar": "Contents",
   "toc_cell": false,
   "toc_position": {},
   "toc_section_display": true,
   "toc_window_display": true
  }
 },
 "nbformat": 4,
 "nbformat_minor": 2
}
